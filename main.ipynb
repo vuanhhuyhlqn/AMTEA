{
 "cells": [
  {
   "cell_type": "code",
   "execution_count": 1,
   "id": "1712651a",
   "metadata": {},
   "outputs": [],
   "source": [
    "%load_ext autoreload\n",
    "%autoreload 2"
   ]
  },
  {
   "cell_type": "code",
   "execution_count": 2,
   "id": "9c984553",
   "metadata": {},
   "outputs": [],
   "source": [
    "import numpy as np\n",
    "import os"
   ]
  },
  {
   "cell_type": "code",
   "execution_count": 3,
   "id": "4b01b105",
   "metadata": {},
   "outputs": [],
   "source": [
    "from indi.indi import Individual"
   ]
  },
  {
   "cell_type": "code",
   "execution_count": 4,
   "id": "039a7b50",
   "metadata": {},
   "outputs": [
    {
     "name": "stdout",
     "output_type": "stream",
     "text": [
      "[0.375759   0.31063306 0.35021972 0.89405991 0.99546706 0.08581136\n",
      " 0.01705908 0.72391407 0.04878963 0.59504841]\n",
      "Fitness: inf\n"
     ]
    }
   ],
   "source": [
    "i = Individual(10)\n",
    "print(i)"
   ]
  },
  {
   "cell_type": "code",
   "execution_count": 5,
   "id": "e25e99af",
   "metadata": {},
   "outputs": [],
   "source": [
    "folder = 'task'\n",
    "files = [f for f in os.listdir(folder) if os.path.isfile(os.path.join(folder, f))]"
   ]
  },
  {
   "cell_type": "code",
   "execution_count": 6,
   "id": "1e264eb8",
   "metadata": {},
   "outputs": [
    {
     "data": {
      "text/plain": [
       "['abstract.py', '__init__.py']"
      ]
     },
     "execution_count": 6,
     "metadata": {},
     "output_type": "execute_result"
    }
   ],
   "source": [
    "files"
   ]
  }
 ],
 "metadata": {
  "kernelspec": {
   "display_name": "mtea",
   "language": "python",
   "name": "python3"
  },
  "language_info": {
   "codemirror_mode": {
    "name": "ipython",
    "version": 3
   },
   "file_extension": ".py",
   "mimetype": "text/x-python",
   "name": "python",
   "nbconvert_exporter": "python",
   "pygments_lexer": "ipython3",
   "version": "3.10.18"
  }
 },
 "nbformat": 4,
 "nbformat_minor": 5
}
