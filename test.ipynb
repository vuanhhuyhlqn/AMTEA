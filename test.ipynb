{
 "cells": [
  {
   "cell_type": "code",
   "execution_count": 9,
   "id": "20638f19",
   "metadata": {},
   "outputs": [
    {
     "name": "stdout",
     "output_type": "stream",
     "text": [
      "The autoreload extension is already loaded. To reload it, use:\n",
      "  %reload_ext autoreload\n"
     ]
    }
   ],
   "source": [
    "%load_ext autoreload\n",
    "%autoreload 2"
   ]
  },
  {
   "cell_type": "code",
   "execution_count": 10,
   "id": "e33e4494",
   "metadata": {},
   "outputs": [],
   "source": [
    "from memory import Memory"
   ]
  },
  {
   "cell_type": "code",
   "execution_count": 11,
   "id": "0c1870c5",
   "metadata": {},
   "outputs": [],
   "source": [
    "mem = Memory()"
   ]
  },
  {
   "cell_type": "code",
   "execution_count": 12,
   "id": "29c68a93",
   "metadata": {},
   "outputs": [],
   "source": [
    "mem.set_value('a', 'b', 1, 5, 5)\n",
    "mem.set_value('c', 'd', 2, 4, 4)\n",
    "mem.set_value('x', 'y', 3, 3, 3)"
   ]
  },
  {
   "cell_type": "code",
   "execution_count": 13,
   "id": "ec220fe5",
   "metadata": {},
   "outputs": [
    {
     "data": {
      "text/html": [
       "<div>\n",
       "<style scoped>\n",
       "    .dataframe tbody tr th:only-of-type {\n",
       "        vertical-align: middle;\n",
       "    }\n",
       "\n",
       "    .dataframe tbody tr th {\n",
       "        vertical-align: top;\n",
       "    }\n",
       "\n",
       "    .dataframe thead th {\n",
       "        text-align: right;\n",
       "    }\n",
       "</style>\n",
       "<table border=\"1\" class=\"dataframe\">\n",
       "  <thead>\n",
       "    <tr style=\"text-align: right;\">\n",
       "      <th></th>\n",
       "      <th>task_name</th>\n",
       "      <th>solver_id</th>\n",
       "      <th>generation</th>\n",
       "      <th>num_success</th>\n",
       "      <th>num_failure</th>\n",
       "    </tr>\n",
       "  </thead>\n",
       "  <tbody>\n",
       "    <tr>\n",
       "      <th>0</th>\n",
       "      <td>a</td>\n",
       "      <td>b</td>\n",
       "      <td>1</td>\n",
       "      <td>5</td>\n",
       "      <td>5</td>\n",
       "    </tr>\n",
       "    <tr>\n",
       "      <th>1</th>\n",
       "      <td>c</td>\n",
       "      <td>d</td>\n",
       "      <td>2</td>\n",
       "      <td>4</td>\n",
       "      <td>4</td>\n",
       "    </tr>\n",
       "    <tr>\n",
       "      <th>2</th>\n",
       "      <td>x</td>\n",
       "      <td>y</td>\n",
       "      <td>3</td>\n",
       "      <td>3</td>\n",
       "      <td>3</td>\n",
       "    </tr>\n",
       "  </tbody>\n",
       "</table>\n",
       "</div>"
      ],
      "text/plain": [
       "  task_name solver_id generation num_success num_failure\n",
       "0         a         b          1           5           5\n",
       "1         c         d          2           4           4\n",
       "2         x         y          3           3           3"
      ]
     },
     "execution_count": 13,
     "metadata": {},
     "output_type": "execute_result"
    }
   ],
   "source": [
    "mem.data"
   ]
  },
  {
   "cell_type": "code",
   "execution_count": 14,
   "id": "447ba912",
   "metadata": {},
   "outputs": [],
   "source": [
    "mem.set_value('x', 'b', 1, 5, 5)\n",
    "mem.set_value('d', 'd', 2, 4, 4)\n"
   ]
  },
  {
   "cell_type": "code",
   "execution_count": 15,
   "id": "4a6c3c23",
   "metadata": {},
   "outputs": [],
   "source": [
    "mem.set_value('d', 'y', 3, 1, 3)"
   ]
  },
  {
   "cell_type": "code",
   "execution_count": 18,
   "id": "a645fb34",
   "metadata": {},
   "outputs": [
    {
     "data": {
      "text/plain": [
       "5"
      ]
     },
     "execution_count": 18,
     "metadata": {},
     "output_type": "execute_result"
    }
   ],
   "source": [
    "mem.get_value('x', 'b', 1)['num_success']"
   ]
  }
 ],
 "metadata": {
  "kernelspec": {
   "display_name": "mtea",
   "language": "python",
   "name": "python3"
  },
  "language_info": {
   "codemirror_mode": {
    "name": "ipython",
    "version": 3
   },
   "file_extension": ".py",
   "mimetype": "text/x-python",
   "name": "python",
   "nbconvert_exporter": "python",
   "pygments_lexer": "ipython3",
   "version": "3.10.18"
  }
 },
 "nbformat": 4,
 "nbformat_minor": 5
}
