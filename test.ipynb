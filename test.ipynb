{
 "cells": [
  {
   "cell_type": "code",
   "execution_count": 10,
   "id": "20638f19",
   "metadata": {},
   "outputs": [
    {
     "name": "stdout",
     "output_type": "stream",
     "text": [
      "The autoreload extension is already loaded. To reload it, use:\n",
      "  %reload_ext autoreload\n"
     ]
    }
   ],
   "source": [
    "%load_ext autoreload\n",
    "%autoreload 2"
   ]
  },
  {
   "cell_type": "code",
   "execution_count": 11,
   "id": "e33e4494",
   "metadata": {},
   "outputs": [],
   "source": [
    "from memory import Memory\n",
    "from random import random\n",
    "from model import AMTEA\n",
    "import numpy as np\n",
    "from solver import Solver\n",
    "from task import GNBGTask\n",
    "import cProfile\n",
    "import pstats\n"
   ]
  },
  {
   "cell_type": "code",
   "execution_count": null,
   "id": "4b167082",
   "metadata": {},
   "outputs": [
    {
     "ename": "AttributeError",
     "evalue": "'builtin_function_or_method' object has no attribute 'seed'",
     "output_type": "error",
     "traceback": [
      "\u001b[1;31m---------------------------------------------------------------------------\u001b[0m",
      "\u001b[1;31mAttributeError\u001b[0m                            Traceback (most recent call last)",
      "Cell \u001b[1;32mIn[12], line 1\u001b[0m\n\u001b[1;32m----> 1\u001b[0m \u001b[43mrandom\u001b[49m\u001b[38;5;241;43m.\u001b[39;49m\u001b[43mseed\u001b[49m(\u001b[38;5;241m0\u001b[39m)\n\u001b[0;32m      2\u001b[0m np\u001b[38;5;241m.\u001b[39mrandom\u001b[38;5;241m.\u001b[39mseed(\u001b[38;5;241m0\u001b[39m)\n",
      "\u001b[1;31mAttributeError\u001b[0m: 'builtin_function_or_method' object has no attribute 'seed'"
     ]
    }
   ],
   "source": [
    "np.random.seed(0)"
   ]
  },
  {
   "cell_type": "code",
   "execution_count": null,
   "id": "30925073",
   "metadata": {},
   "outputs": [],
   "source": [
    "import os, shutil\n",
    "folder = 'cache/solvers'\n",
    "for filename in os.listdir(folder):\n",
    "    file_path = os.path.join(folder, filename)\n",
    "    try:\n",
    "        if os.path.isfile(file_path) or os.path.islink(file_path):\n",
    "            os.unlink(file_path)\n",
    "        elif os.path.isdir(file_path):\n",
    "            shutil.rmtree(file_path)\n",
    "    except Exception as e:\n",
    "        print('Failed to delete %s. Reason: %s' % (file_path, e))"
   ]
  },
  {
   "cell_type": "code",
   "execution_count": null,
   "id": "7ea2125b",
   "metadata": {},
   "outputs": [],
   "source": [
    "gnbg1 = GNBGTask(1, 100)\n",
    "gnbg2 = GNBGTask(2, 100)"
   ]
  },
  {
   "cell_type": "code",
   "execution_count": null,
   "id": "8cac72a3",
   "metadata": {},
   "outputs": [],
   "source": [
    "amtea = AMTEA(pop_size=100, memory_size=10, lst_tasks=[gnbg1, gnbg2], num_solvers=2)"
   ]
  },
  {
   "cell_type": "code",
   "execution_count": null,
   "id": "408d30c2",
   "metadata": {},
   "outputs": [
    {
     "name": "stdout",
     "output_type": "stream",
     "text": [
      "Evaluation count: 100/10000\n",
      "[*] Task GNBG_1\n",
      "[*] lst_p_values: [np.float64(0.5), np.float64(0.5)]\n",
      "[*] Task GNBG_2\n",
      "[*] lst_p_values: [np.float64(0.5), np.float64(0.5)]\n",
      "Generation 1:\n",
      "{'GNBG_1': np.float64(76064.76180615996), 'GNBG_2': np.float64(-701.3423221830643)}\n",
      "Evaluation count: 200/10000\n",
      "[*] Knowledge transfer\n",
      "[*] Task GNBG_1\n",
      "[*] lst_p_values: [np.float64(0.5), np.float64(0.5)]\n",
      "[*] Task GNBG_2\n",
      "[*] lst_p_values: [np.float64(0.5), np.float64(0.5)]\n",
      "Generation 2:\n",
      "{'GNBG_1': np.float64(76064.76180615996), 'GNBG_2': np.float64(-701.3529374695026)}\n",
      "Evaluation count: 300/10000\n",
      "[*] Task GNBG_1\n",
      "[*] lst_p_values: [np.float64(0.5), np.float64(0.5)]\n",
      "[*] Task GNBG_2\n",
      "[*] lst_p_values: [np.float64(0.5), np.float64(0.5)]\n",
      "Generation 3:\n",
      "{'GNBG_1': np.float64(76064.76180615996), 'GNBG_2': np.float64(-701.3689768679037)}\n",
      "Evaluation count: 400/10000\n",
      "[*] Knowledge transfer\n",
      "[*] Task GNBG_1\n",
      "[*] lst_p_values: [np.float64(0.5), np.float64(0.5)]\n",
      "[*] Task GNBG_2\n",
      "[*] lst_p_values: [np.float64(0.5), np.float64(0.5)]\n",
      "Generation 4:\n",
      "{'GNBG_1': np.float64(68291.89093551466), 'GNBG_2': np.float64(-701.3739013253694)}\n",
      "Evaluation count: 500/10000\n",
      "[*] Task GNBG_1\n",
      "[*] lst_p_values: [np.float64(0.5), np.float64(0.5)]\n",
      "[*] Task GNBG_2\n",
      "[*] lst_p_values: [np.float64(0.5), np.float64(0.5)]\n",
      "Generation 5:\n",
      "{'GNBG_1': np.float64(59540.32524146062), 'GNBG_2': np.float64(-701.3764013944353)}\n",
      "Evaluation count: 600/10000\n",
      "[*] Knowledge transfer\n",
      "[*] Task GNBG_1\n",
      "[*] lst_p_values: [np.float64(0.5), np.float64(0.5)]\n",
      "[*] Task GNBG_2\n",
      "[*] lst_p_values: [np.float64(0.5), np.float64(0.5)]\n",
      "Generation 6:\n",
      "{'GNBG_1': np.float64(43976.4954949602), 'GNBG_2': np.float64(-701.3898740595911)}\n",
      "Evaluation count: 700/10000\n",
      "[*] Task GNBG_1\n",
      "[*] lst_p_values: [np.float64(0.5), np.float64(0.5)]\n",
      "[*] Task GNBG_2\n",
      "[*] lst_p_values: [np.float64(0.5), np.float64(0.5)]\n",
      "Generation 7:\n",
      "{'GNBG_1': np.float64(43400.464302837965), 'GNBG_2': np.float64(-701.3936184630173)}\n",
      "Evaluation count: 800/10000\n",
      "[*] Knowledge transfer\n",
      "[*] Task GNBG_1\n",
      "[*] lst_p_values: [np.float64(0.5), np.float64(0.5)]\n",
      "[*] Task GNBG_2\n",
      "[*] lst_p_values: [np.float64(0.5), np.float64(0.5)]\n",
      "Generation 8:\n",
      "{'GNBG_1': np.float64(30322.472016502445), 'GNBG_2': np.float64(-701.4103702198701)}\n",
      "Evaluation count: 900/10000\n",
      "[*] Task GNBG_1\n",
      "[*] lst_p_values: [np.float64(0.5), np.float64(0.5)]\n",
      "[*] Task GNBG_2\n",
      "[*] lst_p_values: [np.float64(0.5), np.float64(0.5)]\n",
      "Generation 9:\n",
      "{'GNBG_1': np.float64(30322.472016502445), 'GNBG_2': np.float64(-701.4103702198701)}\n",
      "Evaluation count: 1000/10000\n",
      "[*] Knowledge transfer\n",
      "[*] Task GNBG_1\n",
      "[*] lst_p_values: [np.float64(0.5), np.float64(0.5)]\n"
     ]
    },
    {
     "ename": "KeyError",
     "evalue": "'sovler_id'",
     "output_type": "error",
     "traceback": [
      "\u001b[1;31m---------------------------------------------------------------------------\u001b[0m",
      "\u001b[1;31mKeyError\u001b[0m                                  Traceback (most recent call last)",
      "File \u001b[1;32mc:\\Users\\madmo\\miniconda3\\envs\\mtea\\lib\\site-packages\\pandas\\core\\indexes\\base.py:3812\u001b[0m, in \u001b[0;36mIndex.get_loc\u001b[1;34m(self, key)\u001b[0m\n\u001b[0;32m   3811\u001b[0m \u001b[38;5;28;01mtry\u001b[39;00m:\n\u001b[1;32m-> 3812\u001b[0m     \u001b[38;5;28;01mreturn\u001b[39;00m \u001b[38;5;28;43mself\u001b[39;49m\u001b[38;5;241;43m.\u001b[39;49m\u001b[43m_engine\u001b[49m\u001b[38;5;241;43m.\u001b[39;49m\u001b[43mget_loc\u001b[49m\u001b[43m(\u001b[49m\u001b[43mcasted_key\u001b[49m\u001b[43m)\u001b[49m\n\u001b[0;32m   3813\u001b[0m \u001b[38;5;28;01mexcept\u001b[39;00m \u001b[38;5;167;01mKeyError\u001b[39;00m \u001b[38;5;28;01mas\u001b[39;00m err:\n",
      "File \u001b[1;32mpandas/_libs/index.pyx:167\u001b[0m, in \u001b[0;36mpandas._libs.index.IndexEngine.get_loc\u001b[1;34m()\u001b[0m\n",
      "File \u001b[1;32mpandas/_libs/index.pyx:196\u001b[0m, in \u001b[0;36mpandas._libs.index.IndexEngine.get_loc\u001b[1;34m()\u001b[0m\n",
      "File \u001b[1;32mpandas/_libs/hashtable_class_helper.pxi:7088\u001b[0m, in \u001b[0;36mpandas._libs.hashtable.PyObjectHashTable.get_item\u001b[1;34m()\u001b[0m\n",
      "File \u001b[1;32mpandas/_libs/hashtable_class_helper.pxi:7096\u001b[0m, in \u001b[0;36mpandas._libs.hashtable.PyObjectHashTable.get_item\u001b[1;34m()\u001b[0m\n",
      "\u001b[1;31mKeyError\u001b[0m: 'sovler_id'",
      "\nThe above exception was the direct cause of the following exception:\n",
      "\u001b[1;31mKeyError\u001b[0m                                  Traceback (most recent call last)",
      "Cell \u001b[1;32mIn[6], line 1\u001b[0m\n\u001b[1;32m----> 1\u001b[0m \u001b[43mamtea\u001b[49m\u001b[38;5;241;43m.\u001b[39;49m\u001b[43mrun\u001b[49m\u001b[43m(\u001b[49m\u001b[43meval_budget\u001b[49m\u001b[38;5;241;43m=\u001b[39;49m\u001b[38;5;241;43m10000\u001b[39;49m\u001b[43m,\u001b[49m\u001b[43m \u001b[49m\u001b[43mlp\u001b[49m\u001b[38;5;241;43m=\u001b[39;49m\u001b[38;5;241;43m20\u001b[39;49m\u001b[43m,\u001b[49m\u001b[43m \u001b[49m\u001b[43mtgap\u001b[49m\u001b[38;5;241;43m=\u001b[39;49m\u001b[38;5;241;43m2\u001b[39;49m\u001b[43m,\u001b[49m\u001b[43m \u001b[49m\u001b[43mk\u001b[49m\u001b[38;5;241;43m=\u001b[39;49m\u001b[38;5;241;43m3\u001b[39;49m\u001b[43m,\u001b[49m\u001b[43m \u001b[49m\u001b[43mup\u001b[49m\u001b[38;5;241;43m=\u001b[39;49m\u001b[38;5;241;43m50\u001b[39;49m\u001b[43m)\u001b[49m\n",
      "File \u001b[1;32mc:\\Users\\madmo\\Workspace\\AMTEA\\model\\amtea.py:81\u001b[0m, in \u001b[0;36mAMTEA.run\u001b[1;34m(self, eval_budget, lp, tgap, k, up, monitor, monitor_rate)\u001b[0m\n\u001b[0;32m     78\u001b[0m     \u001b[38;5;28mprint\u001b[39m(\u001b[38;5;124mf\u001b[39m\u001b[38;5;124m'\u001b[39m\u001b[38;5;124m[*] Knowledge transfer\u001b[39m\u001b[38;5;124m'\u001b[39m)\n\u001b[0;32m     79\u001b[0m     \u001b[38;5;28mself\u001b[39m\u001b[38;5;241m.\u001b[39mpopulation\u001b[38;5;241m.\u001b[39mknowledge_transfer(k\u001b[38;5;241m=\u001b[39mk)\n\u001b[1;32m---> 81\u001b[0m \u001b[38;5;28;43mself\u001b[39;49m\u001b[38;5;241;43m.\u001b[39;49m\u001b[43mpopulation\u001b[49m\u001b[38;5;241;43m.\u001b[39;49m\u001b[43mevolve\u001b[49m\u001b[43m(\u001b[49m\u001b[43mgen\u001b[49m\u001b[43m)\u001b[49m\n\u001b[0;32m     83\u001b[0m \u001b[38;5;28;01mif\u001b[39;00m monitor \u001b[38;5;241m==\u001b[39m \u001b[38;5;28;01mTrue\u001b[39;00m \u001b[38;5;129;01mand\u001b[39;00m gen \u001b[38;5;241m%\u001b[39m monitor_rate \u001b[38;5;241m==\u001b[39m \u001b[38;5;241m0\u001b[39m:\n\u001b[0;32m     84\u001b[0m     \u001b[38;5;28mprint\u001b[39m(\u001b[38;5;124mf\u001b[39m\u001b[38;5;124m'\u001b[39m\u001b[38;5;124mGeneration \u001b[39m\u001b[38;5;132;01m{\u001b[39;00mgen\u001b[38;5;132;01m}\u001b[39;00m\u001b[38;5;124m:\u001b[39m\u001b[38;5;124m'\u001b[39m)\n",
      "File \u001b[1;32mc:\\Users\\madmo\\Workspace\\AMTEA\\population\\population.py:46\u001b[0m, in \u001b[0;36mPopulation.evolve\u001b[1;34m(self, gen)\u001b[0m\n\u001b[0;32m     44\u001b[0m \t\t\t\u001b[38;5;28;01mif\u001b[39;00m gen \u001b[38;5;241m%\u001b[39m \u001b[38;5;28mself\u001b[39m\u001b[38;5;241m.\u001b[39mmem\u001b[38;5;241m.\u001b[39mmemory_size \u001b[38;5;241m==\u001b[39m \u001b[38;5;241m0\u001b[39m:\n\u001b[0;32m     45\u001b[0m \t\t\t\t\u001b[38;5;28;01mfor\u001b[39;00m solver \u001b[38;5;129;01min\u001b[39;00m \u001b[38;5;28mself\u001b[39m\u001b[38;5;241m.\u001b[39mlst_solvers:\n\u001b[1;32m---> 46\u001b[0m \t\t\t\t\t\u001b[38;5;28;43mself\u001b[39;49m\u001b[38;5;241;43m.\u001b[39;49m\u001b[43mmem\u001b[49m\u001b[38;5;241;43m.\u001b[39;49m\u001b[43mupdate_p_value\u001b[49m\u001b[43m(\u001b[49m\u001b[43mtask_name\u001b[49m\u001b[38;5;241;43m=\u001b[39;49m\u001b[43mtask_name\u001b[49m\u001b[43m,\u001b[49m\u001b[43m \u001b[49m\u001b[43msolver_id\u001b[49m\u001b[38;5;241;43m=\u001b[39;49m\u001b[43msolver\u001b[49m\u001b[38;5;241;43m.\u001b[39;49m\u001b[43mid\u001b[49m\u001b[43m,\u001b[49m\u001b[43m \u001b[49m\u001b[43mgeneration\u001b[49m\u001b[38;5;241;43m=\u001b[39;49m\u001b[43mgen\u001b[49m\u001b[43m)\u001b[49m\n\u001b[0;32m     48\u001b[0m     \t\t\t\u001b[38;5;66;03m# Update the best solver list\u001b[39;00m\n\u001b[0;32m     49\u001b[0m \t\t\t\tbest_solver_id \u001b[38;5;241m=\u001b[39m \u001b[38;5;28mself\u001b[39m\u001b[38;5;241m.\u001b[39mmem\u001b[38;5;241m.\u001b[39mget_best_solver_id()\n",
      "File \u001b[1;32mc:\\Users\\madmo\\Workspace\\AMTEA\\memory\\memory.py:139\u001b[0m, in \u001b[0;36mMemory.update_p_value\u001b[1;34m(self, task_name, solver_id, generation, sigma)\u001b[0m\n\u001b[0;32m    138\u001b[0m \u001b[38;5;28;01mdef\u001b[39;00m\u001b[38;5;250m \u001b[39m\u001b[38;5;21mupdate_p_value\u001b[39m(\u001b[38;5;28mself\u001b[39m, task_name, solver_id, generation, sigma\u001b[38;5;241m=\u001b[39m\u001b[38;5;241m0.5\u001b[39m):\n\u001b[1;32m--> 139\u001b[0m \tupper \u001b[38;5;241m=\u001b[39m \u001b[38;5;28;43mself\u001b[39;49m\u001b[38;5;241;43m.\u001b[39;49m\u001b[43mget_success_rate\u001b[49m\u001b[43m(\u001b[49m\u001b[43mtask_name\u001b[49m\u001b[43m,\u001b[49m\u001b[43m \u001b[49m\u001b[43msolver_id\u001b[49m\u001b[43m,\u001b[49m\u001b[43m \u001b[49m\u001b[43mgeneration\u001b[49m\u001b[43m)\u001b[49m \u001b[38;5;241m+\u001b[39m sigma \u001b[38;5;241m*\u001b[39m \u001b[38;5;28mself\u001b[39m\u001b[38;5;241m.\u001b[39mget_p_value(task_name, solver_id)\n\u001b[0;32m    140\u001b[0m \tlower \u001b[38;5;241m=\u001b[39m \u001b[38;5;241m0\u001b[39m\n\u001b[0;32m    141\u001b[0m \t\u001b[38;5;28;01mfor\u001b[39;00m _solver_id \u001b[38;5;129;01min\u001b[39;00m \u001b[38;5;28mself\u001b[39m\u001b[38;5;241m.\u001b[39mlst_solver_ids:\n",
      "File \u001b[1;32mc:\\Users\\madmo\\Workspace\\AMTEA\\memory\\memory.py:126\u001b[0m, in \u001b[0;36mMemory.get_success_rate\u001b[1;34m(self, task_name, solver_id, generation, eps)\u001b[0m\n\u001b[0;32m    123\u001b[0m \t\u001b[38;5;28;01mdef\u001b[39;00m\u001b[38;5;250m \u001b[39m\u001b[38;5;21mget_success_rate\u001b[39m(\u001b[38;5;28mself\u001b[39m, task_name, solver_id, generation, eps\u001b[38;5;241m=\u001b[39m\u001b[38;5;241m1e-3\u001b[39m):\n\u001b[0;32m    124\u001b[0m \t\tmask \u001b[38;5;241m=\u001b[39m (\n\u001b[0;32m    125\u001b[0m \t\t\t(\u001b[38;5;28mself\u001b[39m\u001b[38;5;241m.\u001b[39mdata[\u001b[38;5;124m\"\u001b[39m\u001b[38;5;124mtask_name\u001b[39m\u001b[38;5;124m\"\u001b[39m] \u001b[38;5;241m==\u001b[39m task_name) \u001b[38;5;241m&\u001b[39m\n\u001b[1;32m--> 126\u001b[0m \t\t\t(\u001b[38;5;28;43mself\u001b[39;49m\u001b[38;5;241;43m.\u001b[39;49m\u001b[43mdata\u001b[49m\u001b[43m[\u001b[49m\u001b[38;5;124;43m\"\u001b[39;49m\u001b[38;5;124;43msovler_id\u001b[39;49m\u001b[38;5;124;43m\"\u001b[39;49m\u001b[43m]\u001b[49m \u001b[38;5;241m==\u001b[39m solver_id) \u001b[38;5;241m&\u001b[39m \n\u001b[0;32m    127\u001b[0m \t\t\t(\u001b[38;5;28mself\u001b[39m\u001b[38;5;241m.\u001b[39mdata[\u001b[38;5;124m\"\u001b[39m\u001b[38;5;124mgeneration\u001b[39m\u001b[38;5;124m\"\u001b[39m]\u001b[38;5;241m.\u001b[39mbetween(generation \u001b[38;5;241m-\u001b[39m \u001b[38;5;28mself\u001b[39m\u001b[38;5;241m.\u001b[39mmemory_size \u001b[38;5;241m+\u001b[39m \u001b[38;5;241m1\u001b[39m, generation))\n\u001b[0;32m    128\u001b[0m  \t\t)\n\u001b[0;32m    129\u001b[0m \t\tsuccess_cnt \u001b[38;5;241m=\u001b[39m \u001b[38;5;28mself\u001b[39m\u001b[38;5;241m.\u001b[39mdata\u001b[38;5;241m.\u001b[39mloc[mask, \u001b[38;5;124m\"\u001b[39m\u001b[38;5;124msuccess_rate\u001b[39m\u001b[38;5;124m\"\u001b[39m]\u001b[38;5;241m.\u001b[39msum()\n\u001b[0;32m    130\u001b[0m \t\tfailure_cnt \u001b[38;5;241m=\u001b[39m \u001b[38;5;28mself\u001b[39m\u001b[38;5;241m.\u001b[39mdata\u001b[38;5;241m.\u001b[39mloc[mask, \u001b[38;5;124m\"\u001b[39m\u001b[38;5;124mfailure_rate\u001b[39m\u001b[38;5;124m\"\u001b[39m]\u001b[38;5;241m.\u001b[39msum()\n",
      "File \u001b[1;32mc:\\Users\\madmo\\miniconda3\\envs\\mtea\\lib\\site-packages\\pandas\\core\\frame.py:4107\u001b[0m, in \u001b[0;36mDataFrame.__getitem__\u001b[1;34m(self, key)\u001b[0m\n\u001b[0;32m   4105\u001b[0m \u001b[38;5;28;01mif\u001b[39;00m \u001b[38;5;28mself\u001b[39m\u001b[38;5;241m.\u001b[39mcolumns\u001b[38;5;241m.\u001b[39mnlevels \u001b[38;5;241m>\u001b[39m \u001b[38;5;241m1\u001b[39m:\n\u001b[0;32m   4106\u001b[0m     \u001b[38;5;28;01mreturn\u001b[39;00m \u001b[38;5;28mself\u001b[39m\u001b[38;5;241m.\u001b[39m_getitem_multilevel(key)\n\u001b[1;32m-> 4107\u001b[0m indexer \u001b[38;5;241m=\u001b[39m \u001b[38;5;28;43mself\u001b[39;49m\u001b[38;5;241;43m.\u001b[39;49m\u001b[43mcolumns\u001b[49m\u001b[38;5;241;43m.\u001b[39;49m\u001b[43mget_loc\u001b[49m\u001b[43m(\u001b[49m\u001b[43mkey\u001b[49m\u001b[43m)\u001b[49m\n\u001b[0;32m   4108\u001b[0m \u001b[38;5;28;01mif\u001b[39;00m is_integer(indexer):\n\u001b[0;32m   4109\u001b[0m     indexer \u001b[38;5;241m=\u001b[39m [indexer]\n",
      "File \u001b[1;32mc:\\Users\\madmo\\miniconda3\\envs\\mtea\\lib\\site-packages\\pandas\\core\\indexes\\base.py:3819\u001b[0m, in \u001b[0;36mIndex.get_loc\u001b[1;34m(self, key)\u001b[0m\n\u001b[0;32m   3814\u001b[0m     \u001b[38;5;28;01mif\u001b[39;00m \u001b[38;5;28misinstance\u001b[39m(casted_key, \u001b[38;5;28mslice\u001b[39m) \u001b[38;5;129;01mor\u001b[39;00m (\n\u001b[0;32m   3815\u001b[0m         \u001b[38;5;28misinstance\u001b[39m(casted_key, abc\u001b[38;5;241m.\u001b[39mIterable)\n\u001b[0;32m   3816\u001b[0m         \u001b[38;5;129;01mand\u001b[39;00m \u001b[38;5;28many\u001b[39m(\u001b[38;5;28misinstance\u001b[39m(x, \u001b[38;5;28mslice\u001b[39m) \u001b[38;5;28;01mfor\u001b[39;00m x \u001b[38;5;129;01min\u001b[39;00m casted_key)\n\u001b[0;32m   3817\u001b[0m     ):\n\u001b[0;32m   3818\u001b[0m         \u001b[38;5;28;01mraise\u001b[39;00m InvalidIndexError(key)\n\u001b[1;32m-> 3819\u001b[0m     \u001b[38;5;28;01mraise\u001b[39;00m \u001b[38;5;167;01mKeyError\u001b[39;00m(key) \u001b[38;5;28;01mfrom\u001b[39;00m\u001b[38;5;250m \u001b[39m\u001b[38;5;21;01merr\u001b[39;00m\n\u001b[0;32m   3820\u001b[0m \u001b[38;5;28;01mexcept\u001b[39;00m \u001b[38;5;167;01mTypeError\u001b[39;00m:\n\u001b[0;32m   3821\u001b[0m     \u001b[38;5;66;03m# If we have a listlike key, _check_indexing_error will raise\u001b[39;00m\n\u001b[0;32m   3822\u001b[0m     \u001b[38;5;66;03m#  InvalidIndexError. Otherwise we fall through and re-raise\u001b[39;00m\n\u001b[0;32m   3823\u001b[0m     \u001b[38;5;66;03m#  the TypeError.\u001b[39;00m\n\u001b[0;32m   3824\u001b[0m     \u001b[38;5;28mself\u001b[39m\u001b[38;5;241m.\u001b[39m_check_indexing_error(key)\n",
      "\u001b[1;31mKeyError\u001b[0m: 'sovler_id'"
     ]
    }
   ],
   "source": [
    "amtea.run(eval_budget=10000, lp=20, tgap=2, k=3, up=50)"
   ]
  },
  {
   "cell_type": "code",
   "execution_count": null,
   "id": "14dc6096",
   "metadata": {},
   "outputs": [
    {
     "name": "stdout",
     "output_type": "stream",
     "text": [
      "4\n"
     ]
    },
    {
     "ename": "",
     "evalue": "",
     "output_type": "error",
     "traceback": [
      "\u001b[1;31mnotebook controller is DISPOSED. \n",
      "\u001b[1;31mView Jupyter <a href='command:jupyter.viewOutput'>log</a> for further details."
     ]
    },
    {
     "ename": "",
     "evalue": "",
     "output_type": "error",
     "traceback": [
      "\u001b[1;31mnotebook controller is DISPOSED. \n",
      "\u001b[1;31mView Jupyter <a href='command:jupyter.viewOutput'>log</a> for further details."
     ]
    },
    {
     "ename": "",
     "evalue": "",
     "output_type": "error",
     "traceback": [
      "\u001b[1;31mnotebook controller is DISPOSED. \n",
      "\u001b[1;31mView Jupyter <a href='command:jupyter.viewOutput'>log</a> for further details."
     ]
    },
    {
     "ename": "",
     "evalue": "",
     "output_type": "error",
     "traceback": [
      "\u001b[1;31mnotebook controller is DISPOSED. \n",
      "\u001b[1;31mView Jupyter <a href='command:jupyter.viewOutput'>log</a> for further details."
     ]
    }
   ],
   "source": [
    "u = np.random.uniform(size=(4, 30))\n",
    "print(len(u))"
   ]
  },
  {
   "cell_type": "code",
   "execution_count": null,
   "id": "bec6de64",
   "metadata": {},
   "outputs": [
    {
     "ename": "",
     "evalue": "",
     "output_type": "error",
     "traceback": [
      "\u001b[1;31mnotebook controller is DISPOSED. \n",
      "\u001b[1;31mView Jupyter <a href='command:jupyter.viewOutput'>log</a> for further details."
     ]
    },
    {
     "ename": "",
     "evalue": "",
     "output_type": "error",
     "traceback": [
      "\u001b[1;31mnotebook controller is DISPOSED. \n",
      "\u001b[1;31mView Jupyter <a href='command:jupyter.viewOutput'>log</a> for further details."
     ]
    },
    {
     "ename": "",
     "evalue": "",
     "output_type": "error",
     "traceback": [
      "\u001b[1;31mnotebook controller is DISPOSED. \n",
      "\u001b[1;31mView Jupyter <a href='command:jupyter.viewOutput'>log</a> for further details."
     ]
    },
    {
     "ename": "",
     "evalue": "",
     "output_type": "error",
     "traceback": [
      "\u001b[1;31mnotebook controller is DISPOSED. \n",
      "\u001b[1;31mView Jupyter <a href='command:jupyter.viewOutput'>log</a> for further details."
     ]
    }
   ],
   "source": [
    "gnbg = GNBGTask(1, 100)"
   ]
  },
  {
   "cell_type": "code",
   "execution_count": null,
   "id": "3e3ff489",
   "metadata": {},
   "outputs": [
    {
     "data": {
      "text/plain": [
       "array([139570.83545778, 177743.68326513, 218209.57366833, 130217.30666359])"
      ]
     },
     "execution_count": 13,
     "metadata": {},
     "output_type": "execute_result"
    },
    {
     "ename": "",
     "evalue": "",
     "output_type": "error",
     "traceback": [
      "\u001b[1;31mnotebook controller is DISPOSED. \n",
      "\u001b[1;31mView Jupyter <a href='command:jupyter.viewOutput'>log</a> for further details."
     ]
    },
    {
     "ename": "",
     "evalue": "",
     "output_type": "error",
     "traceback": [
      "\u001b[1;31mnotebook controller is DISPOSED. \n",
      "\u001b[1;31mView Jupyter <a href='command:jupyter.viewOutput'>log</a> for further details."
     ]
    },
    {
     "ename": "",
     "evalue": "",
     "output_type": "error",
     "traceback": [
      "\u001b[1;31mnotebook controller is DISPOSED. \n",
      "\u001b[1;31mView Jupyter <a href='command:jupyter.viewOutput'>log</a> for further details."
     ]
    },
    {
     "ename": "",
     "evalue": "",
     "output_type": "error",
     "traceback": [
      "\u001b[1;31mnotebook controller is DISPOSED. \n",
      "\u001b[1;31mView Jupyter <a href='command:jupyter.viewOutput'>log</a> for further details."
     ]
    }
   ],
   "source": [
    "gnbg.batch_eval(u)"
   ]
  }
 ],
 "metadata": {
  "kernelspec": {
   "display_name": "mtea",
   "language": "python",
   "name": "python3"
  },
  "language_info": {
   "codemirror_mode": {
    "name": "ipython",
    "version": 3
   },
   "file_extension": ".py",
   "mimetype": "text/x-python",
   "name": "python",
   "nbconvert_exporter": "python",
   "pygments_lexer": "ipython3",
   "version": "3.10.18"
  }
 },
 "nbformat": 4,
 "nbformat_minor": 5
}
