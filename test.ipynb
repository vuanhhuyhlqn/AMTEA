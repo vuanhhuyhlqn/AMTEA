{
 "cells": [
  {
   "cell_type": "code",
   "execution_count": 88,
   "id": "20638f19",
   "metadata": {},
   "outputs": [
    {
     "name": "stdout",
     "output_type": "stream",
     "text": [
      "The autoreload extension is already loaded. To reload it, use:\n",
      "  %reload_ext autoreload\n"
     ]
    }
   ],
   "source": [
    "%load_ext autoreload\n",
    "%autoreload 2"
   ]
  },
  {
   "cell_type": "code",
   "execution_count": 89,
   "id": "e33e4494",
   "metadata": {},
   "outputs": [],
   "source": [
    "from memory import Memory\n",
    "from model import AMTEA\n",
    "import numpy as np\n"
   ]
  },
  {
   "cell_type": "code",
   "execution_count": 90,
   "id": "76e81665",
   "metadata": {},
   "outputs": [
    {
     "data": {
      "text/plain": [
       "[4, 5, 6, 7]"
      ]
     },
     "execution_count": 90,
     "metadata": {},
     "output_type": "execute_result"
    }
   ],
   "source": [
    "x = [1, 2, 3, 4, 5, 6, 7]\n",
    "x[-4:]"
   ]
  },
  {
   "cell_type": "code",
   "execution_count": 91,
   "id": "039204d8",
   "metadata": {},
   "outputs": [
    {
     "data": {
      "text/plain": [
       "[1, 2, 3]"
      ]
     },
     "execution_count": 91,
     "metadata": {},
     "output_type": "execute_result"
    }
   ],
   "source": [
    "x[:-4]"
   ]
  },
  {
   "cell_type": "code",
   "execution_count": 92,
   "id": "61e99393",
   "metadata": {},
   "outputs": [],
   "source": [
    "from solver import Solver"
   ]
  },
  {
   "cell_type": "code",
   "execution_count": 93,
   "id": "0cee0037",
   "metadata": {},
   "outputs": [],
   "source": [
    "from task import GNBGTask"
   ]
  },
  {
   "cell_type": "code",
   "execution_count": 94,
   "id": "7ea2125b",
   "metadata": {},
   "outputs": [],
   "source": [
    "gnbg1 = GNBGTask(1, 100)\n",
    "gnbg2 = GNBGTask(2, 100)"
   ]
  },
  {
   "cell_type": "code",
   "execution_count": 95,
   "id": "c8220211",
   "metadata": {},
   "outputs": [],
   "source": [
    "initial_solvers = [Solver(id=id) for id in ['396282', '745894']]"
   ]
  },
  {
   "cell_type": "code",
   "execution_count": 101,
   "id": "8cac72a3",
   "metadata": {},
   "outputs": [
    {
     "name": "stderr",
     "output_type": "stream",
     "text": [
      "c:\\Users\\madmo\\Workspace\\AMTEA\\memory\\memory.py:43: FutureWarning: The behavior of DataFrame concatenation with empty or all-NA entries is deprecated. In a future version, this will no longer exclude empty or all-NA columns when determining the result dtypes. To retain the old behavior, exclude the relevant entries before the concat operation.\n",
      "  self.p_data = pd.concat([self.p_data, pd.DataFrame([new_row])], ignore_index=True)\n"
     ]
    }
   ],
   "source": [
    "amtea = AMTEA(pop_size=60, memory_size=2, lst_tasks=[gnbg1, gnbg2], initial_lst_solvers=initial_solvers)"
   ]
  },
  {
   "cell_type": "code",
   "execution_count": null,
   "id": "408d30c2",
   "metadata": {},
   "outputs": [
    {
     "name": "stdout",
     "output_type": "stream",
     "text": [
      "GNBG_1\n",
      "[np.float64(0.5), np.float64(0.5)]\n",
      "GNBG_2\n",
      "[np.float64(0.5), np.float64(0.5)]\n",
      "Generation 1:\n",
      "{'GNBG_1': np.float64(98200.83564207531), 'GNBG_2': np.float64(-701.3798565451589)}\n",
      "Knowledge transfer\n"
     ]
    },
    {
     "ename": "TypeError",
     "evalue": "Population.knowledge_transfer() takes 1 positional argument but 2 were given",
     "output_type": "error",
     "traceback": [
      "\u001b[1;31m---------------------------------------------------------------------------\u001b[0m",
      "\u001b[1;31mTypeError\u001b[0m                                 Traceback (most recent call last)",
      "Cell \u001b[1;32mIn[102], line 1\u001b[0m\n\u001b[1;32m----> 1\u001b[0m \u001b[43mamtea\u001b[49m\u001b[38;5;241;43m.\u001b[39;49m\u001b[43mrun\u001b[49m\u001b[43m(\u001b[49m\u001b[38;5;241;43m20\u001b[39;49m\u001b[43m,\u001b[49m\u001b[43m \u001b[49m\u001b[38;5;241;43m5\u001b[39;49m\u001b[43m,\u001b[49m\u001b[43m \u001b[49m\u001b[38;5;241;43m2\u001b[39;49m\u001b[43m,\u001b[49m\u001b[43m \u001b[49m\u001b[38;5;241;43m3\u001b[39;49m\u001b[43m)\u001b[49m\n",
      "File \u001b[1;32mc:\\Users\\madmo\\Workspace\\AMTEA\\model\\amtea.py:39\u001b[0m, in \u001b[0;36mAMTEA.run\u001b[1;34m(self, num_gen, lp, tgap, k, monitor, monitor_rate)\u001b[0m\n\u001b[0;32m     37\u001b[0m \u001b[38;5;28;01mif\u001b[39;00m gen \u001b[38;5;241m%\u001b[39m lp \u001b[38;5;241m<\u001b[39m\u001b[38;5;241m=\u001b[39m lp \u001b[38;5;241m-\u001b[39m \u001b[38;5;28mself\u001b[39m\u001b[38;5;241m.\u001b[39mmemory_size \u001b[38;5;129;01mand\u001b[39;00m gen \u001b[38;5;241m%\u001b[39m tgap \u001b[38;5;241m==\u001b[39m \u001b[38;5;241m0\u001b[39m:\n\u001b[0;32m     38\u001b[0m     \u001b[38;5;28mprint\u001b[39m(\u001b[38;5;124mf\u001b[39m\u001b[38;5;124m'\u001b[39m\u001b[38;5;124mKnowledge transfer\u001b[39m\u001b[38;5;124m'\u001b[39m)\n\u001b[1;32m---> 39\u001b[0m     \u001b[38;5;28;43mself\u001b[39;49m\u001b[38;5;241;43m.\u001b[39;49m\u001b[43mpopulation\u001b[49m\u001b[38;5;241;43m.\u001b[39;49m\u001b[43mknowledge_transfer\u001b[49m\u001b[43m(\u001b[49m\u001b[43mk\u001b[49m\u001b[43m)\u001b[49m\n\u001b[0;32m     41\u001b[0m \u001b[38;5;28mself\u001b[39m\u001b[38;5;241m.\u001b[39mpopulation\u001b[38;5;241m.\u001b[39mevolve(gen)\n\u001b[0;32m     43\u001b[0m \u001b[38;5;28;01mif\u001b[39;00m monitor \u001b[38;5;241m==\u001b[39m \u001b[38;5;28;01mTrue\u001b[39;00m \u001b[38;5;129;01mand\u001b[39;00m gen \u001b[38;5;241m%\u001b[39m monitor_rate \u001b[38;5;241m==\u001b[39m \u001b[38;5;241m0\u001b[39m:\n",
      "\u001b[1;31mTypeError\u001b[0m: Population.knowledge_transfer() takes 1 positional argument but 2 were given"
     ]
    }
   ],
   "source": [
    "amtea.run(num_gen=20, lp=5, tgap=2, k=3)"
   ]
  }
 ],
 "metadata": {
  "kernelspec": {
   "display_name": "mtea",
   "language": "python",
   "name": "python3"
  },
  "language_info": {
   "codemirror_mode": {
    "name": "ipython",
    "version": 3
   },
   "file_extension": ".py",
   "mimetype": "text/x-python",
   "name": "python",
   "nbconvert_exporter": "python",
   "pygments_lexer": "ipython3",
   "version": "3.10.18"
  }
 },
 "nbformat": 4,
 "nbformat_minor": 5
}
