{
 "cells": [
  {
   "cell_type": "code",
   "execution_count": 13,
   "id": "20638f19",
   "metadata": {},
   "outputs": [
    {
     "name": "stdout",
     "output_type": "stream",
     "text": [
      "The autoreload extension is already loaded. To reload it, use:\n",
      "  %reload_ext autoreload\n"
     ]
    }
   ],
   "source": [
    "%load_ext autoreload\n",
    "%autoreload 2"
   ]
  },
  {
   "cell_type": "code",
   "execution_count": 14,
   "id": "4a1090c8",
   "metadata": {},
   "outputs": [],
   "source": [
    "import numpy as np\n",
    "from solver.solver import Solver"
   ]
  },
  {
   "cell_type": "code",
   "execution_count": 15,
   "id": "0d3495a0",
   "metadata": {},
   "outputs": [],
   "source": [
    "parent1 = np.array([1, 2, 3, 4])\n",
    "parent2 = np.array([5, 6, 7, 8])"
   ]
  },
  {
   "cell_type": "code",
   "execution_count": 16,
   "id": "b0cb49af",
   "metadata": {},
   "outputs": [
    {
     "name": "stdout",
     "output_type": "stream",
     "text": [
      "Running solver 2025 with operands: [array([1, 2, 3, 4]), array([5, 6, 7, 8])]\n"
     ]
    }
   ],
   "source": [
    "solver = Solver(id=2025)\n",
    "child = solver([parent1, parent2])"
   ]
  },
  {
   "cell_type": "code",
   "execution_count": 17,
   "id": "e0e10436",
   "metadata": {},
   "outputs": [
    {
     "name": "stdout",
     "output_type": "stream",
     "text": [
      "Cha: [1 2 3 4]\n",
      "Mẹ: [5 6 7 8]\n",
      "Con: [3. 4. 5. 6.]\n"
     ]
    }
   ],
   "source": [
    "print(\"Cha:\", parent1)\n",
    "print(\"Mẹ:\", parent2)\n",
    "print(\"Con:\", child)"
   ]
  }
 ],
 "metadata": {
  "kernelspec": {
   "display_name": "graphcodebert_env",
   "language": "python",
   "name": "python3"
  },
  "language_info": {
   "codemirror_mode": {
    "name": "ipython",
    "version": 3
   },
   "file_extension": ".py",
   "mimetype": "text/x-python",
   "name": "python",
   "nbconvert_exporter": "python",
   "pygments_lexer": "ipython3",
   "version": "3.12.11"
  }
 },
 "nbformat": 4,
 "nbformat_minor": 5
}
