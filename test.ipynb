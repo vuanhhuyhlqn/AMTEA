{
 "cells": [
  {
   "cell_type": "code",
   "execution_count": 945,
   "id": "20638f19",
   "metadata": {},
   "outputs": [
    {
     "name": "stdout",
     "output_type": "stream",
     "text": [
      "The autoreload extension is already loaded. To reload it, use:\n",
      "  %reload_ext autoreload\n"
     ]
    }
   ],
   "source": [
    "%load_ext autoreload\n",
    "%autoreload 2"
   ]
  },
  {
   "cell_type": "code",
   "execution_count": 946,
   "id": "e33e4494",
   "metadata": {},
   "outputs": [],
   "source": [
    "from memory import Memory\n",
    "from model import AMTEA\n",
    "import numpy as np\n"
   ]
  },
  {
   "cell_type": "code",
   "execution_count": 947,
   "id": "32736310",
   "metadata": {},
   "outputs": [],
   "source": [
    "lst_task_names = ['T1', 'T2', 'T3']\n",
    "intial_solver_ids = ['S1', 'S2', 'S3']"
   ]
  },
  {
   "cell_type": "code",
   "execution_count": 948,
   "id": "0c1870c5",
   "metadata": {},
   "outputs": [
    {
     "name": "stderr",
     "output_type": "stream",
     "text": [
      "c:\\Users\\madmo\\Workspace\\AMTEA\\memory\\memory.py:43: FutureWarning: The behavior of DataFrame concatenation with empty or all-NA entries is deprecated. In a future version, this will no longer exclude empty or all-NA columns when determining the result dtypes. To retain the old behavior, exclude the relevant entries before the concat operation.\n",
      "  }\n"
     ]
    }
   ],
   "source": [
    "mem = Memory(lst_task_names=lst_task_names, initial_solver_ids=intial_solver_ids)"
   ]
  },
  {
   "cell_type": "code",
   "execution_count": 949,
   "id": "0a80fe64",
   "metadata": {},
   "outputs": [
    {
     "name": "stdout",
     "output_type": "stream",
     "text": [
      "  task_name solver_id         p\n",
      "0        T1        S1  0.333333\n",
      "1        T1        S2  0.333333\n",
      "2        T1        S3  0.333333\n",
      "3        T2        S1  0.333333\n",
      "4        T2        S2  0.333333\n",
      "5        T2        S3  0.333333\n",
      "6        T3        S1  0.333333\n",
      "7        T3        S2  0.333333\n",
      "8        T3        S3  0.333333\n"
     ]
    }
   ],
   "source": [
    "print(mem.p_data)"
   ]
  },
  {
   "cell_type": "code",
   "execution_count": 950,
   "id": "61e99393",
   "metadata": {},
   "outputs": [],
   "source": [
    "from solver import Solver"
   ]
  },
  {
   "cell_type": "code",
   "execution_count": 951,
   "id": "0cee0037",
   "metadata": {},
   "outputs": [],
   "source": [
    "from task import GNBGTask"
   ]
  },
  {
   "cell_type": "code",
   "execution_count": 952,
   "id": "7ea2125b",
   "metadata": {},
   "outputs": [],
   "source": [
    "gnbg1 = GNBGTask(1, 100)\n",
    "gnbg2 = GNBGTask(2, 100)"
   ]
  },
  {
   "cell_type": "code",
   "execution_count": 953,
   "id": "c8220211",
   "metadata": {},
   "outputs": [],
   "source": [
    "initial_solvers = [Solver(id=id) for id in ['396282', '745894']]"
   ]
  },
  {
   "cell_type": "code",
   "execution_count": 954,
   "id": "8cac72a3",
   "metadata": {},
   "outputs": [
    {
     "name": "stderr",
     "output_type": "stream",
     "text": [
      "c:\\Users\\madmo\\Workspace\\AMTEA\\memory\\memory.py:43: FutureWarning: The behavior of DataFrame concatenation with empty or all-NA entries is deprecated. In a future version, this will no longer exclude empty or all-NA columns when determining the result dtypes. To retain the old behavior, exclude the relevant entries before the concat operation.\n",
      "  }\n"
     ]
    }
   ],
   "source": [
    "amtea = AMTEA(200, 2, [gnbg1, gnbg2], initial_lst_solvers=initial_solvers)"
   ]
  },
  {
   "cell_type": "code",
   "execution_count": 955,
   "id": "408d30c2",
   "metadata": {},
   "outputs": [
    {
     "name": "stdout",
     "output_type": "stream",
     "text": [
      "GNBG_1\n",
      "[np.float64(0.5), np.float64(0.5)]\n",
      "GNBG_2\n",
      "[np.float64(0.5), np.float64(0.5)]\n",
      "Generation 1:\n",
      "{'GNBG_1': np.float64(84021.28627571063), 'GNBG_2': np.float64(-701.3743146232291)}\n",
      "GNBG_1\n",
      "[np.float64(0.5), np.float64(0.5)]\n",
      "Task GNBG_1, solver 396282, success_cnt: 83, failure_cnt: 22\n",
      "Task GNBG_1, solver 396282, success_cnt: 83, failure_cnt: 22\n",
      "Task GNBG_1, solver 745894, success_cnt: 92, failure_cnt: 3\n",
      "Task GNBG_1, solver 745894, success_cnt: 92, failure_cnt: 3\n",
      "Task GNBG_1, solver 396282, success_cnt: 83, failure_cnt: 22\n",
      "Task GNBG_1, solver 745894, success_cnt: 92, failure_cnt: 3\n",
      "GNBG_2\n",
      "[np.float64(0.5), np.float64(0.5)]\n",
      "Task GNBG_2, solver 396282, success_cnt: 67, failure_cnt: 32\n",
      "Task GNBG_2, solver 396282, success_cnt: 67, failure_cnt: 32\n",
      "Task GNBG_2, solver 745894, success_cnt: 92, failure_cnt: 9\n",
      "Task GNBG_2, solver 745894, success_cnt: 92, failure_cnt: 9\n",
      "Task GNBG_2, solver 396282, success_cnt: 67, failure_cnt: 32\n",
      "Task GNBG_2, solver 745894, success_cnt: 92, failure_cnt: 9\n",
      "Generation 2:\n",
      "{'GNBG_1': np.float64(79333.2136124231), 'GNBG_2': np.float64(-701.3743146232291)}\n",
      "GNBG_1\n",
      "[np.float64(0.46064729109254204), np.float64(0.5440878490847456)]\n",
      "GNBG_2\n",
      "[np.float64(0.4439804679681703), np.float64(0.5635736680625227)]\n",
      "Generation 3:\n",
      "{'GNBG_1': np.float64(75534.58033087029), 'GNBG_2': np.float64(-701.3903093863169)}\n",
      "GNBG_1\n",
      "[np.float64(0.46064729109254204), np.float64(0.5440878490847456)]\n",
      "Task GNBG_1, solver 396282, success_cnt: 57, failure_cnt: 39\n",
      "Task GNBG_1, solver 396282, success_cnt: 57, failure_cnt: 39\n",
      "Task GNBG_1, solver 745894, success_cnt: 85, failure_cnt: 19\n",
      "Task GNBG_1, solver 745894, success_cnt: 85, failure_cnt: 19\n",
      "Task GNBG_1, solver 396282, success_cnt: 57, failure_cnt: 39\n",
      "Task GNBG_1, solver 745894, success_cnt: 85, failure_cnt: 19\n",
      "GNBG_2\n",
      "[np.float64(0.4439804679681703), np.float64(0.5635736680625227)]\n",
      "Task GNBG_2, solver 396282, success_cnt: 54, failure_cnt: 37\n",
      "Task GNBG_2, solver 396282, success_cnt: 54, failure_cnt: 37\n",
      "Task GNBG_2, solver 745894, success_cnt: 95, failure_cnt: 14\n",
      "Task GNBG_2, solver 745894, success_cnt: 95, failure_cnt: 14\n",
      "Task GNBG_2, solver 396282, success_cnt: 54, failure_cnt: 37\n",
      "Task GNBG_2, solver 745894, success_cnt: 95, failure_cnt: 14\n",
      "Generation 4:\n",
      "{'GNBG_1': np.float64(60722.10872151308), 'GNBG_2': np.float64(-701.4093860211884)}\n",
      "GNBG_1\n",
      "[np.float64(0.4307521999130595), np.float64(0.5737250204028709)]\n",
      "GNBG_2\n",
      "[np.float64(0.4142583306968669), np.float64(0.5901922170075856)]\n",
      "Generation 5:\n",
      "{'GNBG_1': np.float64(48826.77507179312), 'GNBG_2': np.float64(-701.4304163536065)}\n",
      "GNBG_1\n",
      "[np.float64(0.4307521999130595), np.float64(0.5737250204028709)]\n",
      "Task GNBG_1, solver 396282, success_cnt: 58, failure_cnt: 28\n",
      "Task GNBG_1, solver 396282, success_cnt: 58, failure_cnt: 28\n",
      "Task GNBG_1, solver 745894, success_cnt: 80, failure_cnt: 34\n",
      "Task GNBG_1, solver 745894, success_cnt: 80, failure_cnt: 34\n",
      "Task GNBG_1, solver 396282, success_cnt: 58, failure_cnt: 28\n",
      "Task GNBG_1, solver 745894, success_cnt: 80, failure_cnt: 34\n",
      "GNBG_2\n",
      "[np.float64(0.4142583306968669), np.float64(0.5901922170075856)]\n",
      "Task GNBG_2, solver 396282, success_cnt: 50, failure_cnt: 38\n",
      "Task GNBG_2, solver 396282, success_cnt: 50, failure_cnt: 38\n",
      "Task GNBG_2, solver 745894, success_cnt: 74, failure_cnt: 38\n",
      "Task GNBG_2, solver 745894, success_cnt: 74, failure_cnt: 38\n",
      "Task GNBG_2, solver 396282, success_cnt: 50, failure_cnt: 38\n",
      "Task GNBG_2, solver 745894, success_cnt: 74, failure_cnt: 38\n",
      "Generation 6:\n",
      "{'GNBG_1': np.float64(46347.59223817093), 'GNBG_2': np.float64(-701.4356676793433)}\n",
      "GNBG_1\n",
      "[np.float64(0.47372325518573255), np.float64(0.5203314529390339)]\n",
      "GNBG_2\n",
      "[np.float64(0.44792649464565154), np.float64(0.5467627126748035)]\n",
      "Generation 7:\n",
      "{'GNBG_1': np.float64(42908.761077576375), 'GNBG_2': np.float64(-701.4402186640682)}\n",
      "GNBG_1\n",
      "[np.float64(0.47372325518573255), np.float64(0.5203314529390339)]\n",
      "Task GNBG_1, solver 396282, success_cnt: 58, failure_cnt: 52\n",
      "Task GNBG_1, solver 396282, success_cnt: 58, failure_cnt: 52\n",
      "Task GNBG_1, solver 745894, success_cnt: 56, failure_cnt: 34\n",
      "Task GNBG_1, solver 745894, success_cnt: 56, failure_cnt: 34\n",
      "Task GNBG_1, solver 396282, success_cnt: 58, failure_cnt: 52\n",
      "Task GNBG_1, solver 745894, success_cnt: 56, failure_cnt: 34\n",
      "GNBG_2\n",
      "[np.float64(0.44792649464565154), np.float64(0.5467627126748035)]\n",
      "Task GNBG_2, solver 396282, success_cnt: 56, failure_cnt: 31\n",
      "Task GNBG_2, solver 396282, success_cnt: 56, failure_cnt: 31\n",
      "Task GNBG_2, solver 745894, success_cnt: 61, failure_cnt: 52\n",
      "Task GNBG_2, solver 745894, success_cnt: 61, failure_cnt: 52\n",
      "Task GNBG_2, solver 396282, success_cnt: 56, failure_cnt: 31\n",
      "Task GNBG_2, solver 745894, success_cnt: 61, failure_cnt: 52\n",
      "Generation 8:\n",
      "{'GNBG_1': np.float64(36062.67749940857), 'GNBG_2': np.float64(-701.4545010421358)}\n",
      "GNBG_1\n",
      "[np.float64(0.46413345649889987), np.float64(0.5374297139702455)]\n",
      "GNBG_2\n",
      "[np.float64(0.5161741033893065), np.float64(0.4742101291216091)]\n",
      "Generation 9:\n",
      "{'GNBG_1': np.float64(27485.071108669596), 'GNBG_2': np.float64(-701.4552616768228)}\n",
      "GNBG_1\n",
      "[np.float64(0.46413345649889987), np.float64(0.5374297139702455)]\n",
      "Task GNBG_1, solver 396282, success_cnt: 49, failure_cnt: 41\n",
      "Task GNBG_1, solver 396282, success_cnt: 49, failure_cnt: 41\n",
      "Task GNBG_1, solver 745894, success_cnt: 54, failure_cnt: 56\n",
      "Task GNBG_1, solver 745894, success_cnt: 54, failure_cnt: 56\n",
      "Task GNBG_1, solver 396282, success_cnt: 49, failure_cnt: 41\n",
      "Task GNBG_1, solver 745894, success_cnt: 54, failure_cnt: 56\n",
      "GNBG_2\n",
      "[np.float64(0.5161741033893065), np.float64(0.4742101291216091)]\n",
      "Task GNBG_2, solver 396282, success_cnt: 80, failure_cnt: 40\n",
      "Task GNBG_2, solver 396282, success_cnt: 80, failure_cnt: 40\n",
      "Task GNBG_2, solver 745894, success_cnt: 30, failure_cnt: 50\n",
      "Task GNBG_2, solver 745894, success_cnt: 30, failure_cnt: 50\n",
      "Task GNBG_2, solver 396282, success_cnt: 80, failure_cnt: 40\n",
      "Task GNBG_2, solver 745894, success_cnt: 30, failure_cnt: 50\n",
      "Generation 10:\n",
      "{'GNBG_1': np.float64(27485.071108669596), 'GNBG_2': np.float64(-701.467002880267)}\n"
     ]
    }
   ],
   "source": [
    "amtea.run(10)"
   ]
  }
 ],
 "metadata": {
  "kernelspec": {
   "display_name": "mtea",
   "language": "python",
   "name": "python3"
  },
  "language_info": {
   "codemirror_mode": {
    "name": "ipython",
    "version": 3
   },
   "file_extension": ".py",
   "mimetype": "text/x-python",
   "name": "python",
   "nbconvert_exporter": "python",
   "pygments_lexer": "ipython3",
   "version": "3.10.18"
  }
 },
 "nbformat": 4,
 "nbformat_minor": 5
}
