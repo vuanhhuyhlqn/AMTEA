{
 "cells": [
  {
   "cell_type": "code",
   "execution_count": 1,
   "id": "20638f19",
   "metadata": {},
   "outputs": [],
   "source": [
    "%load_ext autoreload\n",
    "%autoreload 2"
   ]
  },
  {
   "cell_type": "code",
   "execution_count": 2,
   "id": "e33e4494",
   "metadata": {},
   "outputs": [],
   "source": [
    "from memory import Memory\n",
    "from model import AMTEA\n",
    "import numpy as np\n"
   ]
  },
  {
   "cell_type": "code",
   "execution_count": 3,
   "id": "76e81665",
   "metadata": {},
   "outputs": [
    {
     "data": {
      "text/plain": [
       "[4, 5, 6, 7]"
      ]
     },
     "execution_count": 3,
     "metadata": {},
     "output_type": "execute_result"
    }
   ],
   "source": [
    "x = [1, 2, 3, 4, 5, 6, 7]\n",
    "x[-4:]"
   ]
  },
  {
   "cell_type": "code",
   "execution_count": 4,
   "id": "039204d8",
   "metadata": {},
   "outputs": [
    {
     "data": {
      "text/plain": [
       "[1, 2, 3]"
      ]
     },
     "execution_count": 4,
     "metadata": {},
     "output_type": "execute_result"
    }
   ],
   "source": [
    "x[:-4]"
   ]
  },
  {
   "cell_type": "code",
   "execution_count": 5,
   "id": "61e99393",
   "metadata": {},
   "outputs": [],
   "source": [
    "from solver import Solver"
   ]
  },
  {
   "cell_type": "code",
   "execution_count": 6,
   "id": "0cee0037",
   "metadata": {},
   "outputs": [],
   "source": [
    "from task import GNBGTask"
   ]
  },
  {
   "cell_type": "code",
   "execution_count": 7,
   "id": "7ea2125b",
   "metadata": {},
   "outputs": [],
   "source": [
    "gnbg1 = GNBGTask(1, 100)\n",
    "gnbg2 = GNBGTask(2, 100)"
   ]
  },
  {
   "cell_type": "code",
   "execution_count": 8,
   "id": "c8220211",
   "metadata": {},
   "outputs": [],
   "source": [
    "initial_solvers = [Solver(id=id) for id in ['396282', '745894']]"
   ]
  },
  {
   "cell_type": "code",
   "execution_count": 9,
   "id": "b8c7cb24",
   "metadata": {},
   "outputs": [
    {
     "name": "stdout",
     "output_type": "stream",
     "text": [
      "Bob\n"
     ]
    }
   ],
   "source": [
    "scores = {\"Alice\": 90, \"Bob\": 75, \"Charlie\": 82}\n",
    "\n",
    "min_key = min(scores, key=scores.get)\n",
    "print(min_key)   # Bob"
   ]
  },
  {
   "cell_type": "code",
   "execution_count": 10,
   "id": "8cac72a3",
   "metadata": {},
   "outputs": [
    {
     "name": "stderr",
     "output_type": "stream",
     "text": [
      "c:\\Users\\madmo\\Workspace\\AMTEA\\memory\\memory.py:43: FutureWarning: The behavior of DataFrame concatenation with empty or all-NA entries is deprecated. In a future version, this will no longer exclude empty or all-NA columns when determining the result dtypes. To retain the old behavior, exclude the relevant entries before the concat operation.\n",
      "  self.p_data = pd.concat([self.p_data, pd.DataFrame([new_row])], ignore_index=True)\n"
     ]
    }
   ],
   "source": [
    "amtea = AMTEA(pop_size=100, memory_size=2, lst_tasks=[gnbg1, gnbg2], initial_lst_solvers=initial_solvers)"
   ]
  },
  {
   "cell_type": "code",
   "execution_count": 11,
   "id": "408d30c2",
   "metadata": {},
   "outputs": [
    {
     "name": "stdout",
     "output_type": "stream",
     "text": [
      "Evaluation count: 100/10000\n",
      "[*] Task GNBG_1\n",
      "[*] lst_p_values: [np.float64(0.5), np.float64(0.5)]\n",
      "[*] Task GNBG_2\n",
      "[*] lst_p_values: [np.float64(0.5), np.float64(0.5)]\n",
      "Generation 1:\n",
      "{'GNBG_1': np.float64(78373.24879283611), 'GNBG_2': np.float64(-701.3685709077182)}\n",
      "Evaluation count: 200/10000\n",
      "[*] Knowledge transfer\n",
      "[*] Task GNBG_1\n",
      "[*] lst_p_values: [np.float64(0.5), np.float64(0.5)]\n",
      "[*] Task GNBG_2\n",
      "[*] lst_p_values: [np.float64(0.5), np.float64(0.5)]\n",
      "Generation 2:\n",
      "{'GNBG_1': np.float64(56977.92282708872), 'GNBG_2': np.float64(-701.3690987032288)}\n",
      "Evaluation count: 300/10000\n",
      "[*] Task GNBG_1\n",
      "[*] lst_p_values: [np.float64(0.42530345471521946), np.float64(0.5848948707278616)]\n",
      "[*] Task GNBG_2\n",
      "[*] lst_p_values: [np.float64(0.4303659642645034), np.float64(0.5792439521647255)]\n",
      "Generation 3:\n",
      "{'GNBG_1': np.float64(56091.65935402322), 'GNBG_2': np.float64(-701.3881354081517)}\n",
      "Evaluation count: 400/10000\n",
      "[*] Task GNBG_1\n",
      "[*] lst_p_values: [np.float64(0.42530345471521946), np.float64(0.5848948707278616)]\n",
      "[*] Task GNBG_2\n",
      "[*] lst_p_values: [np.float64(0.4303659642645034), np.float64(0.5792439521647255)]\n",
      "Generation 4:\n",
      "{'GNBG_1': np.float64(56091.65935402322), 'GNBG_2': np.float64(-701.3968694886964)}\n",
      "Evaluation count: 500/10000\n",
      "[*] Task GNBG_1\n",
      "[*] lst_p_values: [np.float64(0.3550499553212142), np.float64(0.6577956427648007)]\n",
      "[*] Task GNBG_2\n",
      "[*] lst_p_values: [np.float64(0.3668570633102451), np.float64(0.6443003985510392)]\n",
      "Generation 5:\n",
      "{'GNBG_1': np.float64(55341.74710234631), 'GNBG_2': np.float64(-701.4080707915645)}\n",
      "Evaluation count: 600/10000\n",
      "[*] Knowledge transfer\n",
      "[*] Task GNBG_1\n",
      "[*] lst_p_values: [np.float64(0.3550499553212142), np.float64(0.6577956427648007)]\n",
      "[*] Task GNBG_2\n",
      "[*] lst_p_values: [np.float64(0.3668570633102451), np.float64(0.6443003985510392)]\n",
      "Generation 6:\n",
      "{'GNBG_1': np.float64(52595.43308833592), 'GNBG_2': np.float64(-701.4234583045038)}\n",
      "Evaluation count: 700/10000\n",
      "[*] Task GNBG_1\n",
      "[*] lst_p_values: [np.float64(0.3382179287235028), np.float64(0.6654828245382788)]\n",
      "[*] Task GNBG_2\n",
      "[*] lst_p_values: [np.float64(0.4664661051049364), np.float64(0.5179600953403576)]\n",
      "Generation 7:\n",
      "{'GNBG_1': np.float64(39444.23641770672), 'GNBG_2': np.float64(-701.4321793999826)}\n",
      "Worst_solver_id: 396282\n",
      "Evaluation count: 800/10000\n",
      "[*] Task GNBG_1\n",
      "[*] lst_p_values: [np.float64(0.5), np.float64(0.5)]\n"
     ]
    },
    {
     "name": "stderr",
     "output_type": "stream",
     "text": [
      "c:\\Users\\madmo\\Workspace\\AMTEA\\memory\\memory.py:43: FutureWarning: The behavior of DataFrame concatenation with empty or all-NA entries is deprecated. In a future version, this will no longer exclude empty or all-NA columns when determining the result dtypes. To retain the old behavior, exclude the relevant entries before the concat operation.\n",
      "  self.p_data = pd.concat([self.p_data, pd.DataFrame([new_row])], ignore_index=True)\n"
     ]
    },
    {
     "name": "stdout",
     "output_type": "stream",
     "text": [
      "[*] Task GNBG_2\n",
      "[*] lst_p_values: [np.float64(0.5), np.float64(0.5)]\n",
      "Generation 1:\n",
      "{'GNBG_1': np.float64(37521.68197811308), 'GNBG_2': np.float64(-701.4323432760057)}\n",
      "Evaluation count: 900/10000\n",
      "[*] Knowledge transfer\n",
      "[*] Task GNBG_1\n",
      "[*] lst_p_values: [np.float64(0.5), np.float64(0.5)]\n",
      "[*] Task GNBG_2\n",
      "[*] lst_p_values: [np.float64(0.5), np.float64(0.5)]\n",
      "Generation 2:\n",
      "{'GNBG_1': np.float64(36731.18006576783), 'GNBG_2': np.float64(-701.440574453877)}\n",
      "Evaluation count: 1000/10000\n",
      "[*] Task GNBG_1\n",
      "[*] lst_p_values: [np.float64(0.3613349323539332), np.float64(0.6672732369076657)]\n",
      "[*] Task GNBG_2\n",
      "[*] lst_p_values: [np.float64(0.36200486689120887), np.float64(0.6681811774304734)]\n"
     ]
    },
    {
     "ename": "KeyboardInterrupt",
     "evalue": "",
     "output_type": "error",
     "traceback": [
      "\u001b[1;31m---------------------------------------------------------------------------\u001b[0m",
      "\u001b[1;31mKeyboardInterrupt\u001b[0m                         Traceback (most recent call last)",
      "Cell \u001b[1;32mIn[11], line 1\u001b[0m\n\u001b[1;32m----> 1\u001b[0m \u001b[43mamtea\u001b[49m\u001b[38;5;241;43m.\u001b[39;49m\u001b[43mrun\u001b[49m\u001b[43m(\u001b[49m\u001b[43meval_budget\u001b[49m\u001b[38;5;241;43m=\u001b[39;49m\u001b[38;5;241;43m10000\u001b[39;49m\u001b[43m,\u001b[49m\u001b[43m \u001b[49m\u001b[43mlp\u001b[49m\u001b[38;5;241;43m=\u001b[39;49m\u001b[38;5;241;43m5\u001b[39;49m\u001b[43m,\u001b[49m\u001b[43m \u001b[49m\u001b[43mtgap\u001b[49m\u001b[38;5;241;43m=\u001b[39;49m\u001b[38;5;241;43m2\u001b[39;49m\u001b[43m,\u001b[49m\u001b[43m \u001b[49m\u001b[43mk\u001b[49m\u001b[38;5;241;43m=\u001b[39;49m\u001b[38;5;241;43m3\u001b[39;49m\u001b[43m,\u001b[49m\u001b[43m \u001b[49m\u001b[43mup\u001b[49m\u001b[38;5;241;43m=\u001b[39;49m\u001b[38;5;241;43m7\u001b[39;49m\u001b[43m)\u001b[49m\n",
      "File \u001b[1;32mc:\\Users\\madmo\\Workspace\\AMTEA\\model\\amtea.py:46\u001b[0m, in \u001b[0;36mAMTEA.run\u001b[1;34m(self, eval_budget, lp, tgap, k, up, monitor, monitor_rate)\u001b[0m\n\u001b[0;32m     43\u001b[0m     \u001b[38;5;28mprint\u001b[39m(\u001b[38;5;124mf\u001b[39m\u001b[38;5;124m'\u001b[39m\u001b[38;5;124m[*] Knowledge transfer\u001b[39m\u001b[38;5;124m'\u001b[39m)\n\u001b[0;32m     44\u001b[0m     \u001b[38;5;28mself\u001b[39m\u001b[38;5;241m.\u001b[39mpopulation\u001b[38;5;241m.\u001b[39mknowledge_transfer(k\u001b[38;5;241m=\u001b[39mk)\n\u001b[1;32m---> 46\u001b[0m \u001b[38;5;28;43mself\u001b[39;49m\u001b[38;5;241;43m.\u001b[39;49m\u001b[43mpopulation\u001b[49m\u001b[38;5;241;43m.\u001b[39;49m\u001b[43mevolve\u001b[49m\u001b[43m(\u001b[49m\u001b[43mgen\u001b[49m\u001b[43m)\u001b[49m\n\u001b[0;32m     48\u001b[0m \u001b[38;5;28;01mif\u001b[39;00m monitor \u001b[38;5;241m==\u001b[39m \u001b[38;5;28;01mTrue\u001b[39;00m \u001b[38;5;129;01mand\u001b[39;00m gen \u001b[38;5;241m%\u001b[39m monitor_rate \u001b[38;5;241m==\u001b[39m \u001b[38;5;241m0\u001b[39m:\n\u001b[0;32m     49\u001b[0m     \u001b[38;5;28mprint\u001b[39m(\u001b[38;5;124mf\u001b[39m\u001b[38;5;124m'\u001b[39m\u001b[38;5;124mGeneration \u001b[39m\u001b[38;5;132;01m{\u001b[39;00mgen\u001b[38;5;132;01m}\u001b[39;00m\u001b[38;5;124m:\u001b[39m\u001b[38;5;124m'\u001b[39m)\n",
      "File \u001b[1;32mc:\\Users\\madmo\\Workspace\\AMTEA\\population\\population.py:43\u001b[0m, in \u001b[0;36mPopulation.evolve\u001b[1;34m(self, gen)\u001b[0m\n\u001b[0;32m     41\u001b[0m \u001b[38;5;28;01mdef\u001b[39;00m\u001b[38;5;250m \u001b[39m\u001b[38;5;21mevolve\u001b[39m(\u001b[38;5;28mself\u001b[39m, gen : \u001b[38;5;28mint\u001b[39m):\n\u001b[0;32m     42\u001b[0m \t\u001b[38;5;28;01mfor\u001b[39;00m task_name \u001b[38;5;129;01min\u001b[39;00m \u001b[38;5;28mself\u001b[39m\u001b[38;5;241m.\u001b[39mlst_task_names:\n\u001b[1;32m---> 43\u001b[0m \t\t\u001b[38;5;28;43mself\u001b[39;49m\u001b[38;5;241;43m.\u001b[39;49m\u001b[43mdict_taskpopulations\u001b[49m\u001b[43m[\u001b[49m\u001b[43mtask_name\u001b[49m\u001b[43m]\u001b[49m\u001b[38;5;241;43m.\u001b[39;49m\u001b[43mevolve\u001b[49m\u001b[43m(\u001b[49m\u001b[43mgen\u001b[49m\u001b[38;5;241;43m=\u001b[39;49m\u001b[43mgen\u001b[49m\u001b[43m)\u001b[49m\n\u001b[0;32m     44\u001b[0m \t\t\u001b[38;5;28mself\u001b[39m\u001b[38;5;241m.\u001b[39mdict_best_fitness[task_name] \u001b[38;5;241m=\u001b[39m \u001b[38;5;28mself\u001b[39m\u001b[38;5;241m.\u001b[39mdict_taskpopulations[task_name]\u001b[38;5;241m.\u001b[39mget_best_fitness()\n\u001b[0;32m     46\u001b[0m \t\t\u001b[38;5;28;01mif\u001b[39;00m gen \u001b[38;5;241m%\u001b[39m \u001b[38;5;28mself\u001b[39m\u001b[38;5;241m.\u001b[39mmem\u001b[38;5;241m.\u001b[39mmemory_size \u001b[38;5;241m==\u001b[39m \u001b[38;5;241m0\u001b[39m:\n",
      "File \u001b[1;32mc:\\Users\\madmo\\Workspace\\AMTEA\\taskpopulation\\taskpopulation.py:48\u001b[0m, in \u001b[0;36mTaskPopulation.evolve\u001b[1;34m(self, gen)\u001b[0m\n\u001b[0;32m     45\u001b[0m lst_offs : List[Individual] \u001b[38;5;241m=\u001b[39m []\n\u001b[0;32m     47\u001b[0m \u001b[38;5;28;01mfor\u001b[39;00m solver_id \u001b[38;5;129;01min\u001b[39;00m solver_ids:\n\u001b[1;32m---> 48\u001b[0m     lst_offs_subpop \u001b[38;5;241m=\u001b[39m \u001b[43mdict_subpopulations\u001b[49m\u001b[43m[\u001b[49m\u001b[43msolver_id\u001b[49m\u001b[43m]\u001b[49m\u001b[38;5;241;43m.\u001b[39;49m\u001b[43mevolve\u001b[49m\u001b[43m(\u001b[49m\u001b[43m)\u001b[49m \u001b[38;5;66;03m# Offsprings from subpopulation's evolution\u001b[39;00m\n\u001b[0;32m     49\u001b[0m     lst_offs\u001b[38;5;241m.\u001b[39mextend(lst_offs_subpop)\n\u001b[0;32m     51\u001b[0m     success, failure \u001b[38;5;241m=\u001b[39m \u001b[38;5;241m0\u001b[39m, \u001b[38;5;241m0\u001b[39m\n",
      "File \u001b[1;32mc:\\Users\\madmo\\Workspace\\AMTEA\\subpopulation\\subpopulation.py:26\u001b[0m, in \u001b[0;36mSubPopulation.evolve\u001b[1;34m(self)\u001b[0m\n\u001b[0;32m     24\u001b[0m p1 \u001b[38;5;241m=\u001b[39m \u001b[38;5;28mself\u001b[39m\u001b[38;5;241m.\u001b[39mget_random_indi(size\u001b[38;5;241m=\u001b[39msize)\n\u001b[0;32m     25\u001b[0m p2 \u001b[38;5;241m=\u001b[39m \u001b[38;5;28mself\u001b[39m\u001b[38;5;241m.\u001b[39mget_random_indi(size\u001b[38;5;241m=\u001b[39msize)\n\u001b[1;32m---> 26\u001b[0m off : Individual \u001b[38;5;241m=\u001b[39m Individual(dim\u001b[38;5;241m=\u001b[39mp1\u001b[38;5;241m.\u001b[39mdim, gene\u001b[38;5;241m=\u001b[39m\u001b[38;5;28;43mself\u001b[39;49m\u001b[38;5;241;43m.\u001b[39;49m\u001b[43msolver\u001b[49m\u001b[43m(\u001b[49m\u001b[43m[\u001b[49m\u001b[43mp1\u001b[49m\u001b[38;5;241;43m.\u001b[39;49m\u001b[43mgene\u001b[49m\u001b[43m,\u001b[49m\u001b[43m \u001b[49m\u001b[43mp2\u001b[49m\u001b[38;5;241;43m.\u001b[39;49m\u001b[43mgene\u001b[49m\u001b[43m]\u001b[49m\u001b[43m)\u001b[49m)\n\u001b[0;32m     27\u001b[0m off\u001b[38;5;241m.\u001b[39mfitness \u001b[38;5;241m=\u001b[39m \u001b[38;5;28mself\u001b[39m\u001b[38;5;241m.\u001b[39mtask\u001b[38;5;241m.\u001b[39meval(off\u001b[38;5;241m.\u001b[39mgene)\n\u001b[0;32m     28\u001b[0m lst_offs\u001b[38;5;241m.\u001b[39mappend(off)\n",
      "File \u001b[1;32mc:\\Users\\madmo\\Workspace\\AMTEA\\solver\\solver.py:29\u001b[0m, in \u001b[0;36mSolver.__call__\u001b[1;34m(self, operands)\u001b[0m\n\u001b[0;32m     26\u001b[0m output_file \u001b[38;5;241m=\u001b[39m path\u001b[38;5;241m.\u001b[39mjoin(temp_dir, \u001b[38;5;124m'\u001b[39m\u001b[38;5;124moutput.npy\u001b[39m\u001b[38;5;124m'\u001b[39m)\n\u001b[0;32m     28\u001b[0m \u001b[38;5;28;01mtry\u001b[39;00m:\n\u001b[1;32m---> 29\u001b[0m     \u001b[43msubprocess\u001b[49m\u001b[38;5;241;43m.\u001b[39;49m\u001b[43mrun\u001b[49m\u001b[43m(\u001b[49m\n\u001b[0;32m     30\u001b[0m \u001b[43m        \u001b[49m\u001b[43m[\u001b[49m\u001b[43msys\u001b[49m\u001b[38;5;241;43m.\u001b[39;49m\u001b[43mexecutable\u001b[49m\u001b[43m,\u001b[49m\u001b[43m \u001b[49m\u001b[43mrun_file\u001b[49m\u001b[43m,\u001b[49m\u001b[43m \u001b[49m\u001b[38;5;28;43mself\u001b[39;49m\u001b[38;5;241;43m.\u001b[39;49m\u001b[43mid\u001b[49m\u001b[43m]\u001b[49m\u001b[43m,\u001b[49m\n\u001b[0;32m     31\u001b[0m \u001b[43m        \u001b[49m\u001b[43mstdout\u001b[49m\u001b[38;5;241;43m=\u001b[39;49m\u001b[43msubprocess\u001b[49m\u001b[38;5;241;43m.\u001b[39;49m\u001b[43mPIPE\u001b[49m\u001b[43m,\u001b[49m\n\u001b[0;32m     32\u001b[0m \u001b[43m        \u001b[49m\u001b[43mstderr\u001b[49m\u001b[38;5;241;43m=\u001b[39;49m\u001b[43msubprocess\u001b[49m\u001b[38;5;241;43m.\u001b[39;49m\u001b[43mPIPE\u001b[49m\u001b[43m,\u001b[49m\n\u001b[0;32m     33\u001b[0m \u001b[43m        \u001b[49m\u001b[43mcheck\u001b[49m\u001b[38;5;241;43m=\u001b[39;49m\u001b[38;5;28;43;01mTrue\u001b[39;49;00m\n\u001b[0;32m     34\u001b[0m \u001b[43m    \u001b[49m\u001b[43m)\u001b[49m\n\u001b[0;32m     35\u001b[0m \u001b[38;5;28;01mexcept\u001b[39;00m subprocess\u001b[38;5;241m.\u001b[39mCalledProcessError \u001b[38;5;28;01mas\u001b[39;00m e:\n\u001b[0;32m     36\u001b[0m     \u001b[38;5;28mprint\u001b[39m(\u001b[38;5;124mf\u001b[39m\u001b[38;5;124m'\u001b[39m\u001b[38;5;124mError running run.py: \u001b[39m\u001b[38;5;132;01m{\u001b[39;00me\u001b[38;5;241m.\u001b[39mstderr\u001b[38;5;241m.\u001b[39mdecode()\u001b[38;5;132;01m}\u001b[39;00m\u001b[38;5;124m'\u001b[39m)\n",
      "File \u001b[1;32mc:\\Users\\madmo\\miniconda3\\envs\\mtea\\lib\\subprocess.py:505\u001b[0m, in \u001b[0;36mrun\u001b[1;34m(input, capture_output, timeout, check, *popenargs, **kwargs)\u001b[0m\n\u001b[0;32m    503\u001b[0m \u001b[38;5;28;01mwith\u001b[39;00m Popen(\u001b[38;5;241m*\u001b[39mpopenargs, \u001b[38;5;241m*\u001b[39m\u001b[38;5;241m*\u001b[39mkwargs) \u001b[38;5;28;01mas\u001b[39;00m process:\n\u001b[0;32m    504\u001b[0m     \u001b[38;5;28;01mtry\u001b[39;00m:\n\u001b[1;32m--> 505\u001b[0m         stdout, stderr \u001b[38;5;241m=\u001b[39m \u001b[43mprocess\u001b[49m\u001b[38;5;241;43m.\u001b[39;49m\u001b[43mcommunicate\u001b[49m\u001b[43m(\u001b[49m\u001b[38;5;28;43minput\u001b[39;49m\u001b[43m,\u001b[49m\u001b[43m \u001b[49m\u001b[43mtimeout\u001b[49m\u001b[38;5;241;43m=\u001b[39;49m\u001b[43mtimeout\u001b[49m\u001b[43m)\u001b[49m\n\u001b[0;32m    506\u001b[0m     \u001b[38;5;28;01mexcept\u001b[39;00m TimeoutExpired \u001b[38;5;28;01mas\u001b[39;00m exc:\n\u001b[0;32m    507\u001b[0m         process\u001b[38;5;241m.\u001b[39mkill()\n",
      "File \u001b[1;32mc:\\Users\\madmo\\miniconda3\\envs\\mtea\\lib\\subprocess.py:1154\u001b[0m, in \u001b[0;36mPopen.communicate\u001b[1;34m(self, input, timeout)\u001b[0m\n\u001b[0;32m   1151\u001b[0m     endtime \u001b[38;5;241m=\u001b[39m \u001b[38;5;28;01mNone\u001b[39;00m\n\u001b[0;32m   1153\u001b[0m \u001b[38;5;28;01mtry\u001b[39;00m:\n\u001b[1;32m-> 1154\u001b[0m     stdout, stderr \u001b[38;5;241m=\u001b[39m \u001b[38;5;28;43mself\u001b[39;49m\u001b[38;5;241;43m.\u001b[39;49m\u001b[43m_communicate\u001b[49m\u001b[43m(\u001b[49m\u001b[38;5;28;43minput\u001b[39;49m\u001b[43m,\u001b[49m\u001b[43m \u001b[49m\u001b[43mendtime\u001b[49m\u001b[43m,\u001b[49m\u001b[43m \u001b[49m\u001b[43mtimeout\u001b[49m\u001b[43m)\u001b[49m\n\u001b[0;32m   1155\u001b[0m \u001b[38;5;28;01mexcept\u001b[39;00m \u001b[38;5;167;01mKeyboardInterrupt\u001b[39;00m:\n\u001b[0;32m   1156\u001b[0m     \u001b[38;5;66;03m# https://bugs.python.org/issue25942\u001b[39;00m\n\u001b[0;32m   1157\u001b[0m     \u001b[38;5;66;03m# See the detailed comment in .wait().\u001b[39;00m\n\u001b[0;32m   1158\u001b[0m     \u001b[38;5;28;01mif\u001b[39;00m timeout \u001b[38;5;129;01mis\u001b[39;00m \u001b[38;5;129;01mnot\u001b[39;00m \u001b[38;5;28;01mNone\u001b[39;00m:\n",
      "File \u001b[1;32mc:\\Users\\madmo\\miniconda3\\envs\\mtea\\lib\\subprocess.py:1544\u001b[0m, in \u001b[0;36mPopen._communicate\u001b[1;34m(self, input, endtime, orig_timeout)\u001b[0m\n\u001b[0;32m   1540\u001b[0m \u001b[38;5;66;03m# Wait for the reader threads, or time out.  If we time out, the\u001b[39;00m\n\u001b[0;32m   1541\u001b[0m \u001b[38;5;66;03m# threads remain reading and the fds left open in case the user\u001b[39;00m\n\u001b[0;32m   1542\u001b[0m \u001b[38;5;66;03m# calls communicate again.\u001b[39;00m\n\u001b[0;32m   1543\u001b[0m \u001b[38;5;28;01mif\u001b[39;00m \u001b[38;5;28mself\u001b[39m\u001b[38;5;241m.\u001b[39mstdout \u001b[38;5;129;01mis\u001b[39;00m \u001b[38;5;129;01mnot\u001b[39;00m \u001b[38;5;28;01mNone\u001b[39;00m:\n\u001b[1;32m-> 1544\u001b[0m     \u001b[38;5;28;43mself\u001b[39;49m\u001b[38;5;241;43m.\u001b[39;49m\u001b[43mstdout_thread\u001b[49m\u001b[38;5;241;43m.\u001b[39;49m\u001b[43mjoin\u001b[49m\u001b[43m(\u001b[49m\u001b[38;5;28;43mself\u001b[39;49m\u001b[38;5;241;43m.\u001b[39;49m\u001b[43m_remaining_time\u001b[49m\u001b[43m(\u001b[49m\u001b[43mendtime\u001b[49m\u001b[43m)\u001b[49m\u001b[43m)\u001b[49m\n\u001b[0;32m   1545\u001b[0m     \u001b[38;5;28;01mif\u001b[39;00m \u001b[38;5;28mself\u001b[39m\u001b[38;5;241m.\u001b[39mstdout_thread\u001b[38;5;241m.\u001b[39mis_alive():\n\u001b[0;32m   1546\u001b[0m         \u001b[38;5;28;01mraise\u001b[39;00m TimeoutExpired(\u001b[38;5;28mself\u001b[39m\u001b[38;5;241m.\u001b[39margs, orig_timeout)\n",
      "File \u001b[1;32mc:\\Users\\madmo\\miniconda3\\envs\\mtea\\lib\\threading.py:1096\u001b[0m, in \u001b[0;36mThread.join\u001b[1;34m(self, timeout)\u001b[0m\n\u001b[0;32m   1093\u001b[0m     \u001b[38;5;28;01mraise\u001b[39;00m \u001b[38;5;167;01mRuntimeError\u001b[39;00m(\u001b[38;5;124m\"\u001b[39m\u001b[38;5;124mcannot join current thread\u001b[39m\u001b[38;5;124m\"\u001b[39m)\n\u001b[0;32m   1095\u001b[0m \u001b[38;5;28;01mif\u001b[39;00m timeout \u001b[38;5;129;01mis\u001b[39;00m \u001b[38;5;28;01mNone\u001b[39;00m:\n\u001b[1;32m-> 1096\u001b[0m     \u001b[38;5;28;43mself\u001b[39;49m\u001b[38;5;241;43m.\u001b[39;49m\u001b[43m_wait_for_tstate_lock\u001b[49m\u001b[43m(\u001b[49m\u001b[43m)\u001b[49m\n\u001b[0;32m   1097\u001b[0m \u001b[38;5;28;01melse\u001b[39;00m:\n\u001b[0;32m   1098\u001b[0m     \u001b[38;5;66;03m# the behavior of a negative timeout isn't documented, but\u001b[39;00m\n\u001b[0;32m   1099\u001b[0m     \u001b[38;5;66;03m# historically .join(timeout=x) for x<0 has acted as if timeout=0\u001b[39;00m\n\u001b[0;32m   1100\u001b[0m     \u001b[38;5;28mself\u001b[39m\u001b[38;5;241m.\u001b[39m_wait_for_tstate_lock(timeout\u001b[38;5;241m=\u001b[39m\u001b[38;5;28mmax\u001b[39m(timeout, \u001b[38;5;241m0\u001b[39m))\n",
      "File \u001b[1;32mc:\\Users\\madmo\\miniconda3\\envs\\mtea\\lib\\threading.py:1116\u001b[0m, in \u001b[0;36mThread._wait_for_tstate_lock\u001b[1;34m(self, block, timeout)\u001b[0m\n\u001b[0;32m   1113\u001b[0m     \u001b[38;5;28;01mreturn\u001b[39;00m\n\u001b[0;32m   1115\u001b[0m \u001b[38;5;28;01mtry\u001b[39;00m:\n\u001b[1;32m-> 1116\u001b[0m     \u001b[38;5;28;01mif\u001b[39;00m \u001b[43mlock\u001b[49m\u001b[38;5;241;43m.\u001b[39;49m\u001b[43macquire\u001b[49m\u001b[43m(\u001b[49m\u001b[43mblock\u001b[49m\u001b[43m,\u001b[49m\u001b[43m \u001b[49m\u001b[43mtimeout\u001b[49m\u001b[43m)\u001b[49m:\n\u001b[0;32m   1117\u001b[0m         lock\u001b[38;5;241m.\u001b[39mrelease()\n\u001b[0;32m   1118\u001b[0m         \u001b[38;5;28mself\u001b[39m\u001b[38;5;241m.\u001b[39m_stop()\n",
      "\u001b[1;31mKeyboardInterrupt\u001b[0m: "
     ]
    }
   ],
   "source": [
    "amtea.run(eval_budget=10000, lp=5, tgap=2, k=3, up=7)"
   ]
  }
 ],
 "metadata": {
  "kernelspec": {
   "display_name": "mtea",
   "language": "python",
   "name": "python3"
  },
  "language_info": {
   "codemirror_mode": {
    "name": "ipython",
    "version": 3
   },
   "file_extension": ".py",
   "mimetype": "text/x-python",
   "name": "python",
   "nbconvert_exporter": "python",
   "pygments_lexer": "ipython3",
   "version": "3.10.18"
  }
 },
 "nbformat": 4,
 "nbformat_minor": 5
}
